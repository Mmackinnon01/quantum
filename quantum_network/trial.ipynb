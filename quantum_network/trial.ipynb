{
 "cells": [
  {
   "cell_type": "code",
   "execution_count": 10,
   "metadata": {},
   "outputs": [],
   "source": [
    "from quantum_model.system import SingleSystem, CompositeSystem\n",
    "from quantum_model.dynamics import EnergyExchangeDynamics, QutritQubitExchangeDynamics\n",
    "\n",
    "from quantum.core import DensityMatrix, GeneralQubitMatrixGen, sigmaZ\n",
    "import numpy as np"
   ]
  },
  {
   "cell_type": "markdown",
   "metadata": {},
   "source": [
    "## 1. System Setup"
   ]
  },
  {
   "cell_type": "code",
   "execution_count": 2,
   "metadata": {},
   "outputs": [],
   "source": [
    "systemNode1 = SingleSystem(DensityMatrix(0))\n",
    "systemNode1.name = 'Node1'\n",
    "\n",
    "systemNode2 = SingleSystem(DensityMatrix(0))\n",
    "systemNode2.name = 'Node2'\n",
    "\n",
    "target = SingleSystem(GeneralQubitMatrixGen().generateThermalState(20,3))\n",
    "target.name = 'Target'\n",
    "\n",
    "system = CompositeSystem()\n",
    "system.name = 'System'\n",
    "system.addSubsystem(systemNode1)\n",
    "system.addSubsystem(systemNode2)\n",
    "\n"
   ]
  },
  {
   "cell_type": "code",
   "execution_count": 3,
   "metadata": {},
   "outputs": [],
   "source": [
    "reservoirDynamics = EnergyExchangeDynamics(systemNode1, systemNode2, 1)\n",
    "system.addDynamics(reservoirDynamics)"
   ]
  },
  {
   "cell_type": "code",
   "execution_count": 4,
   "metadata": {},
   "outputs": [],
   "source": [
    "model = CompositeSystem()\n",
    "model.name = 'Model'\n",
    "\n",
    "model.addSubsystem(system)\n",
    "model.addSubsystem(target)"
   ]
  },
  {
   "cell_type": "code",
   "execution_count": 5,
   "metadata": {},
   "outputs": [],
   "source": [
    "interfaceDynamics = QutritQubitExchangeDynamics(target, systemNode1, 1)"
   ]
  },
  {
   "cell_type": "code",
   "execution_count": 6,
   "metadata": {},
   "outputs": [],
   "source": [
    "model.addDynamics(interfaceDynamics)"
   ]
  },
  {
   "cell_type": "code",
   "execution_count": 7,
   "metadata": {},
   "outputs": [],
   "source": [
    "model.updateDyanamics()"
   ]
  },
  {
   "cell_type": "code",
   "execution_count": 8,
   "metadata": {},
   "outputs": [],
   "source": [
    "model.evolve(2)"
   ]
  },
  {
   "cell_type": "code",
   "execution_count": 12,
   "metadata": {},
   "outputs": [
    {
     "data": {
      "text/plain": [
       "0.8438077116537068"
      ]
     },
     "execution_count": 12,
     "metadata": {},
     "output_type": "execute_result"
    }
   ],
   "source": [
    "model.state.measure(sigmaZ.tensor(DensityMatrix(np.eye(6))))"
   ]
  },
  {
   "cell_type": "code",
   "execution_count": 17,
   "metadata": {},
   "outputs": [
    {
     "data": {
      "text/plain": [
       "0.8438077116537067"
      ]
     },
     "execution_count": 17,
     "metadata": {},
     "output_type": "execute_result"
    }
   ],
   "source": [
    "model.getSubsystemState(systemNode1).measure(sigmaZ)"
   ]
  },
  {
   "cell_type": "code",
   "execution_count": 4,
   "metadata": {},
   "outputs": [],
   "source": [
    "state = DensityMatrix(np.array([[1,0,0,1],[0,0,0,0],[0,0,0,0],[1,0,0,1]])*(1/2))\n",
    "system.state = state\n"
   ]
  },
  {
   "cell_type": "code",
   "execution_count": 5,
   "metadata": {},
   "outputs": [
    {
     "data": {
      "text/plain": [
       "[[0.5 0.  0.  0.5]\n",
       " [0.  0.  0.  0. ]\n",
       " [0.  0.  0.  0. ]\n",
       " [0.5 0.  0.  0.5]]"
      ]
     },
     "execution_count": 5,
     "metadata": {},
     "output_type": "execute_result"
    }
   ],
   "source": [
    "system.state"
   ]
  },
  {
   "cell_type": "code",
   "execution_count": 6,
   "metadata": {},
   "outputs": [
    {
     "data": {
      "text/plain": [
       "[2, 2]"
      ]
     },
     "execution_count": 6,
     "metadata": {},
     "output_type": "execute_result"
    }
   ],
   "source": [
    "system.configuration"
   ]
  },
  {
   "cell_type": "code",
   "execution_count": 7,
   "metadata": {},
   "outputs": [
    {
     "data": {
      "text/plain": [
       "[1]"
      ]
     },
     "execution_count": 7,
     "metadata": {},
     "output_type": "execute_result"
    }
   ],
   "source": [
    "system.subsystemIndex(systemNode2)"
   ]
  },
  {
   "cell_type": "code",
   "execution_count": 8,
   "metadata": {},
   "outputs": [
    {
     "data": {
      "text/plain": [
       "[]"
      ]
     },
     "execution_count": 8,
     "metadata": {},
     "output_type": "execute_result"
    }
   ],
   "source": [
    "[1,2][:0]"
   ]
  },
  {
   "cell_type": "code",
   "execution_count": 26,
   "metadata": {},
   "outputs": [],
   "source": [
    "system.removeSubsystem(systemNode3)"
   ]
  },
  {
   "cell_type": "code",
   "execution_count": 9,
   "metadata": {},
   "outputs": [
    {
     "data": {
      "text/plain": [
       "[[1. 0.]\n",
       " [0. 0.]]"
      ]
     },
     "execution_count": 9,
     "metadata": {},
     "output_type": "execute_result"
    }
   ],
   "source": [
    "systemNode3.state"
   ]
  },
  {
   "cell_type": "code",
   "execution_count": 27,
   "metadata": {},
   "outputs": [
    {
     "data": {
      "text/plain": [
       "[[0.     +0.j      0.     +0.j      0.     +0.j      0.     +0.j     ]\n",
       " [0.     +0.j      0.42725+0.j      0.     +0.49468j 0.     +0.j     ]\n",
       " [0.     +0.j      0.     -0.49468j 0.57275+0.j      0.     +0.j     ]\n",
       " [0.     +0.j      0.     +0.j      0.     +0.j      0.     +0.j     ]]"
      ]
     },
     "execution_count": 27,
     "metadata": {},
     "output_type": "execute_result"
    }
   ],
   "source": [
    "system.state"
   ]
  },
  {
   "cell_type": "markdown",
   "metadata": {},
   "source": [
    "## 2. Reservoir Setup"
   ]
  },
  {
   "cell_type": "code",
   "execution_count": 3,
   "metadata": {},
   "outputs": [],
   "source": [
    "node1 = QuantumSystem()\n",
    "node1.name = 'Node1'\n",
    "node1.state = DensityMatrix(np.array([[0,0],[0,1]]))\n",
    "\n",
    "node2 = QuantumSystem()\n",
    "node2.name = 'Node2'\n",
    "node2.state = DensityMatrix(np.array([[0,0],[0,1]]))\n",
    "\n",
    "reservoir = QuantumSystem()\n",
    "reservoir.name = 'Reservoir'\n",
    "reservoir.addSubsystem(node1)\n",
    "reservoir.addSubsystem(node2)\n",
    "\n"
   ]
  },
  {
   "cell_type": "code",
   "execution_count": 4,
   "metadata": {},
   "outputs": [],
   "source": [
    "exchange_func = EnergyExchangeDynamics(node1, node2, 1)\n",
    "dampingNode1 = DampingDynamics(node1, 1)\n",
    "dampingNode2 = DampingDynamics(node2, 1)"
   ]
  },
  {
   "cell_type": "code",
   "execution_count": 5,
   "metadata": {},
   "outputs": [],
   "source": [
    "dynamics = DerivativeSystemDynamics(reservoir)\n",
    "dynamics.addDynamics(exchange_func)\n",
    "dynamics.addDynamics(dampingNode1)\n",
    "dynamics.addDynamics(dampingNode2)"
   ]
  },
  {
   "cell_type": "markdown",
   "metadata": {},
   "source": [
    "## 3. Network Setup"
   ]
  },
  {
   "cell_type": "code",
   "execution_count": 6,
   "metadata": {},
   "outputs": [],
   "source": [
    "network = QuantumSystem()\n",
    "network.name = 'Network'\n",
    "network.addSubsystem(system)\n",
    "network.addSubsystem(reservoir)"
   ]
  },
  {
   "cell_type": "code",
   "execution_count": 8,
   "metadata": {},
   "outputs": [
    {
     "ename": "AttributeError",
     "evalue": "'NoneType' object has no attribute 'matrix'",
     "output_type": "error",
     "traceback": [
      "\u001b[0;31m---------------------------------------------------------------------------\u001b[0m",
      "\u001b[0;31mAttributeError\u001b[0m                            Traceback (most recent call last)",
      "Cell \u001b[0;32mIn[8], line 1\u001b[0m\n\u001b[0;32m----> 1\u001b[0m pumpingFunc \u001b[38;5;241m=\u001b[39m \u001b[43mPumpingDynamics\u001b[49m\u001b[43m(\u001b[49m\u001b[43msystemNode1\u001b[49m\u001b[43m,\u001b[49m\u001b[43m \u001b[49m\u001b[43mnode2\u001b[49m\u001b[43m,\u001b[49m\u001b[43m \u001b[49m\u001b[38;5;241;43m1\u001b[39;49m\u001b[43m,\u001b[49m\u001b[43m \u001b[49m\u001b[38;5;241;43m1\u001b[39;49m\u001b[43m)\u001b[49m\n",
      "File \u001b[0;32m~/Documents/repos/quantum_network/network/network.py:134\u001b[0m, in \u001b[0;36mPumpingDynamics.__init__\u001b[0;34m(self, system1, system2, gamma_1, gamma_2)\u001b[0m\n\u001b[1;32m    132\u001b[0m \u001b[38;5;28mself\u001b[39m\u001b[38;5;241m.\u001b[39mgamma_1 \u001b[38;5;241m=\u001b[39m gamma_1\n\u001b[1;32m    133\u001b[0m \u001b[38;5;28mself\u001b[39m\u001b[38;5;241m.\u001b[39mgamma_2 \u001b[38;5;241m=\u001b[39m gamma_2\n\u001b[0;32m--> 134\u001b[0m \u001b[38;5;28;43mself\u001b[39;49m\u001b[38;5;241;43m.\u001b[39;49m\u001b[43mupdateOperators\u001b[49m\u001b[43m(\u001b[49m\u001b[43m)\u001b[49m\n",
      "File \u001b[0;32m~/Documents/repos/quantum_network/network/network.py:137\u001b[0m, in \u001b[0;36mPumpingDynamics.updateOperators\u001b[0;34m(self)\u001b[0m\n\u001b[1;32m    136\u001b[0m \u001b[38;5;28;01mdef\u001b[39;00m \u001b[38;5;21mupdateOperators\u001b[39m(\u001b[38;5;28mself\u001b[39m):\n\u001b[0;32m--> 137\u001b[0m     \u001b[38;5;28mself\u001b[39m\u001b[38;5;241m.\u001b[39msigma_plus_1 \u001b[38;5;241m=\u001b[39m \u001b[38;5;28;43mself\u001b[39;49m\u001b[38;5;241;43m.\u001b[39;49m\u001b[43msystem1\u001b[49m\u001b[38;5;241;43m.\u001b[39;49m\u001b[43mgenerateParentOperator\u001b[49m\u001b[43m(\u001b[49m\u001b[43msigmaPlus\u001b[49m\u001b[43m)\u001b[49m\n\u001b[1;32m    138\u001b[0m     \u001b[38;5;28mself\u001b[39m\u001b[38;5;241m.\u001b[39msigma_plus_2 \u001b[38;5;241m=\u001b[39m \u001b[38;5;28mself\u001b[39m\u001b[38;5;241m.\u001b[39msystem2\u001b[38;5;241m.\u001b[39mgenerateParentOperator(sigmaPlus)\n\u001b[1;32m    139\u001b[0m     \u001b[38;5;28mself\u001b[39m\u001b[38;5;241m.\u001b[39msigma_minus_1 \u001b[38;5;241m=\u001b[39m \u001b[38;5;28mself\u001b[39m\u001b[38;5;241m.\u001b[39msystem1\u001b[38;5;241m.\u001b[39mgenerateParentOperator(sigmaMinus)\n",
      "File \u001b[0;32m~/Documents/repos/quantum_network/network/network.py:62\u001b[0m, in \u001b[0;36mQuantumSystem.generateParentOperator\u001b[0;34m(self, operator, subsystem)\u001b[0m\n\u001b[1;32m     60\u001b[0m     subsystem \u001b[38;5;241m=\u001b[39m \u001b[38;5;28mself\u001b[39m\n\u001b[1;32m     61\u001b[0m \u001b[38;5;28;01mif\u001b[39;00m \u001b[38;5;28mself\u001b[39m\u001b[38;5;241m.\u001b[39mparent:\n\u001b[0;32m---> 62\u001b[0m     \u001b[38;5;28;01mreturn\u001b[39;00m \u001b[38;5;28;43mself\u001b[39;49m\u001b[38;5;241;43m.\u001b[39;49m\u001b[43mparent\u001b[49m\u001b[38;5;241;43m.\u001b[39;49m\u001b[43mgenerateParentOperator\u001b[49m\u001b[43m(\u001b[49m\u001b[43moperator\u001b[49m\u001b[43m,\u001b[49m\u001b[43m \u001b[49m\u001b[43msubsystem\u001b[49m\u001b[43m)\u001b[49m\n\u001b[1;32m     63\u001b[0m \u001b[38;5;28;01melse\u001b[39;00m:\n\u001b[1;32m     64\u001b[0m     \u001b[38;5;28;01mreturn\u001b[39;00m \u001b[38;5;28mself\u001b[39m\u001b[38;5;241m.\u001b[39mgenerateSubsystemOperator(subsystem, operator)\n",
      "File \u001b[0;32m~/Documents/repos/quantum_network/network/network.py:62\u001b[0m, in \u001b[0;36mQuantumSystem.generateParentOperator\u001b[0;34m(self, operator, subsystem)\u001b[0m\n\u001b[1;32m     60\u001b[0m     subsystem \u001b[38;5;241m=\u001b[39m \u001b[38;5;28mself\u001b[39m\n\u001b[1;32m     61\u001b[0m \u001b[38;5;28;01mif\u001b[39;00m \u001b[38;5;28mself\u001b[39m\u001b[38;5;241m.\u001b[39mparent:\n\u001b[0;32m---> 62\u001b[0m     \u001b[38;5;28;01mreturn\u001b[39;00m \u001b[38;5;28;43mself\u001b[39;49m\u001b[38;5;241;43m.\u001b[39;49m\u001b[43mparent\u001b[49m\u001b[38;5;241;43m.\u001b[39;49m\u001b[43mgenerateParentOperator\u001b[49m\u001b[43m(\u001b[49m\u001b[43moperator\u001b[49m\u001b[43m,\u001b[49m\u001b[43m \u001b[49m\u001b[43msubsystem\u001b[49m\u001b[43m)\u001b[49m\n\u001b[1;32m     63\u001b[0m \u001b[38;5;28;01melse\u001b[39;00m:\n\u001b[1;32m     64\u001b[0m     \u001b[38;5;28;01mreturn\u001b[39;00m \u001b[38;5;28mself\u001b[39m\u001b[38;5;241m.\u001b[39mgenerateSubsystemOperator(subsystem, operator)\n",
      "File \u001b[0;32m~/Documents/repos/quantum_network/network/network.py:64\u001b[0m, in \u001b[0;36mQuantumSystem.generateParentOperator\u001b[0;34m(self, operator, subsystem)\u001b[0m\n\u001b[1;32m     62\u001b[0m     \u001b[38;5;28;01mreturn\u001b[39;00m \u001b[38;5;28mself\u001b[39m\u001b[38;5;241m.\u001b[39mparent\u001b[38;5;241m.\u001b[39mgenerateParentOperator(operator, subsystem)\n\u001b[1;32m     63\u001b[0m \u001b[38;5;28;01melse\u001b[39;00m:\n\u001b[0;32m---> 64\u001b[0m     \u001b[38;5;28;01mreturn\u001b[39;00m \u001b[38;5;28;43mself\u001b[39;49m\u001b[38;5;241;43m.\u001b[39;49m\u001b[43mgenerateSubsystemOperator\u001b[49m\u001b[43m(\u001b[49m\u001b[43msubsystem\u001b[49m\u001b[43m,\u001b[49m\u001b[43m \u001b[49m\u001b[43moperator\u001b[49m\u001b[43m)\u001b[49m\n",
      "File \u001b[0;32m~/Documents/repos/quantum_network/network/network.py:53\u001b[0m, in \u001b[0;36mQuantumSystem.generateSubsystemOperator\u001b[0;34m(self, subsystem, operator)\u001b[0m\n\u001b[1;32m     51\u001b[0m     \u001b[38;5;28;01mreturn\u001b[39;00m Operator(np\u001b[38;5;241m.\u001b[39meye(N\u001b[38;5;241m=\u001b[39m\u001b[38;5;28mself\u001b[39m\u001b[38;5;241m.\u001b[39mstate\u001b[38;5;241m.\u001b[39mmatrix\u001b[38;5;241m.\u001b[39mshape[\u001b[38;5;241m0\u001b[39m], M\u001b[38;5;241m=\u001b[39m\u001b[38;5;28mself\u001b[39m\u001b[38;5;241m.\u001b[39mstate\u001b[38;5;241m.\u001b[39mmatrix\u001b[38;5;241m.\u001b[39mshape[\u001b[38;5;241m1\u001b[39m]))\n\u001b[1;32m     52\u001b[0m \u001b[38;5;28;01melse\u001b[39;00m:\n\u001b[0;32m---> 53\u001b[0m     op \u001b[38;5;241m=\u001b[39m \u001b[38;5;28;43mself\u001b[39;49m\u001b[38;5;241;43m.\u001b[39;49m\u001b[43msubsystems\u001b[49m\u001b[43m[\u001b[49m\u001b[38;5;241;43m0\u001b[39;49m\u001b[43m]\u001b[49m\u001b[38;5;241;43m.\u001b[39;49m\u001b[43mgenerateSubsystemOperator\u001b[49m\u001b[43m(\u001b[49m\u001b[43msubsystem\u001b[49m\u001b[43m,\u001b[49m\u001b[43m \u001b[49m\u001b[43moperator\u001b[49m\u001b[43m)\u001b[49m\n\u001b[1;32m     54\u001b[0m     \u001b[38;5;28;01mfor\u001b[39;00m system \u001b[38;5;129;01min\u001b[39;00m \u001b[38;5;28mself\u001b[39m\u001b[38;5;241m.\u001b[39msubsystems[\u001b[38;5;241m1\u001b[39m:]:\n\u001b[1;32m     55\u001b[0m         op \u001b[38;5;241m=\u001b[39m op\u001b[38;5;241m.\u001b[39mtensor(system\u001b[38;5;241m.\u001b[39mgenerateSubsystemOperator(subsystem, operator))\n",
      "File \u001b[0;32m~/Documents/repos/quantum_network/network/network.py:55\u001b[0m, in \u001b[0;36mQuantumSystem.generateSubsystemOperator\u001b[0;34m(self, subsystem, operator)\u001b[0m\n\u001b[1;32m     53\u001b[0m op \u001b[38;5;241m=\u001b[39m \u001b[38;5;28mself\u001b[39m\u001b[38;5;241m.\u001b[39msubsystems[\u001b[38;5;241m0\u001b[39m]\u001b[38;5;241m.\u001b[39mgenerateSubsystemOperator(subsystem, operator)\n\u001b[1;32m     54\u001b[0m \u001b[38;5;28;01mfor\u001b[39;00m system \u001b[38;5;129;01min\u001b[39;00m \u001b[38;5;28mself\u001b[39m\u001b[38;5;241m.\u001b[39msubsystems[\u001b[38;5;241m1\u001b[39m:]:\n\u001b[0;32m---> 55\u001b[0m     op \u001b[38;5;241m=\u001b[39m op\u001b[38;5;241m.\u001b[39mtensor(\u001b[43msystem\u001b[49m\u001b[38;5;241;43m.\u001b[39;49m\u001b[43mgenerateSubsystemOperator\u001b[49m\u001b[43m(\u001b[49m\u001b[43msubsystem\u001b[49m\u001b[43m,\u001b[49m\u001b[43m \u001b[49m\u001b[43moperator\u001b[49m\u001b[43m)\u001b[49m)\n\u001b[1;32m     56\u001b[0m \u001b[38;5;28;01mreturn\u001b[39;00m op\n",
      "File \u001b[0;32m~/Documents/repos/quantum_network/network/network.py:51\u001b[0m, in \u001b[0;36mQuantumSystem.generateSubsystemOperator\u001b[0;34m(self, subsystem, operator)\u001b[0m\n\u001b[1;32m     49\u001b[0m     \u001b[38;5;28;01mreturn\u001b[39;00m operator\n\u001b[1;32m     50\u001b[0m \u001b[38;5;28;01melif\u001b[39;00m \u001b[38;5;129;01mnot\u001b[39;00m \u001b[38;5;28mself\u001b[39m\u001b[38;5;241m.\u001b[39msubsystems:\n\u001b[0;32m---> 51\u001b[0m     \u001b[38;5;28;01mreturn\u001b[39;00m Operator(np\u001b[38;5;241m.\u001b[39meye(N\u001b[38;5;241m=\u001b[39m\u001b[38;5;28;43mself\u001b[39;49m\u001b[38;5;241;43m.\u001b[39;49m\u001b[43mstate\u001b[49m\u001b[38;5;241;43m.\u001b[39;49m\u001b[43mmatrix\u001b[49m\u001b[38;5;241m.\u001b[39mshape[\u001b[38;5;241m0\u001b[39m], M\u001b[38;5;241m=\u001b[39m\u001b[38;5;28mself\u001b[39m\u001b[38;5;241m.\u001b[39mstate\u001b[38;5;241m.\u001b[39mmatrix\u001b[38;5;241m.\u001b[39mshape[\u001b[38;5;241m1\u001b[39m]))\n\u001b[1;32m     52\u001b[0m \u001b[38;5;28;01melse\u001b[39;00m:\n\u001b[1;32m     53\u001b[0m     op \u001b[38;5;241m=\u001b[39m \u001b[38;5;28mself\u001b[39m\u001b[38;5;241m.\u001b[39msubsystems[\u001b[38;5;241m0\u001b[39m]\u001b[38;5;241m.\u001b[39mgenerateSubsystemOperator(subsystem, operator)\n",
      "\u001b[0;31mAttributeError\u001b[0m: 'NoneType' object has no attribute 'matrix'"
     ]
    }
   ],
   "source": [
    "pumpingFunc = PumpingDynamics(systemNode1, node2, 1, 1)"
   ]
  },
  {
   "cell_type": "code",
   "execution_count": null,
   "metadata": {},
   "outputs": [],
   "source": [
    "dynamics = DerivativeSystemDynamics(network)\n",
    "dynamics.addDynamics(pumpingFunc)"
   ]
  },
  {
   "cell_type": "code",
   "execution_count": null,
   "metadata": {},
   "outputs": [
    {
     "data": {
      "text/plain": [
       "[[0 0 0 0]\n",
       " [0 1 0 0]\n",
       " [0 0 0 0]\n",
       " [0 0 0 0]]"
      ]
     },
     "execution_count": 20,
     "metadata": {},
     "output_type": "execute_result"
    }
   ],
   "source": [
    "network.state"
   ]
  },
  {
   "cell_type": "code",
   "execution_count": null,
   "metadata": {},
   "outputs": [],
   "source": [
    "measurements = []"
   ]
  },
  {
   "cell_type": "code",
   "execution_count": null,
   "metadata": {},
   "outputs": [],
   "source": [
    "for i in range(100):\n",
    "    dynamics.evolve(1, 0.001)\n",
    "    measurements.append(system.measure(sigmaZ, node2))"
   ]
  },
  {
   "cell_type": "code",
   "execution_count": null,
   "metadata": {},
   "outputs": [
    {
     "data": {
      "text/plain": [
       "True"
      ]
     },
     "execution_count": 23,
     "metadata": {},
     "output_type": "execute_result"
    }
   ],
   "source": [
    "system.state.isLegitamate()"
   ]
  },
  {
   "cell_type": "code",
   "execution_count": null,
   "metadata": {},
   "outputs": [
    {
     "data": {
      "text/plain": [
       "[[0.     +0.j      0.     +0.j      0.     +0.j      0.     +0.j     ]\n",
       " [0.     +0.j      0.23735+0.j      0.     -0.42546j 0.     +0.j     ]\n",
       " [0.     +0.j      0.     +0.42546j 0.76265+0.j      0.     +0.j     ]\n",
       " [0.     +0.j      0.     +0.j      0.     +0.j      0.     +0.j     ]]"
      ]
     },
     "execution_count": 24,
     "metadata": {},
     "output_type": "execute_result"
    }
   ],
   "source": [
    "system.state"
   ]
  },
  {
   "cell_type": "code",
   "execution_count": null,
   "metadata": {},
   "outputs": [
    {
     "data": {
      "text/plain": [
       "[0.6536436208700509,\n",
       " 0.14550003379172027,\n",
       " -0.8438539587186819,\n",
       " 0.957659480333104,\n",
       " -0.40808206185228796,\n",
       " -0.4241790072905574,\n",
       " 0.9626058662971917,\n",
       " -0.8342233605439647,\n",
       " 0.12796368970353983,\n",
       " 0.6669380615884901,\n",
       " -0.9998433086490381,\n",
       " 0.6401443395476488,\n",
       " 0.16299078068619388,\n",
       " -0.8532201076599328,\n",
       " 0.9524129804537633,\n",
       " -0.39185723055498584,\n",
       " -0.4401430223655654,\n",
       " 0.967250588234397,\n",
       " -0.8243313311988982,\n",
       " 0.11038724400861172,\n",
       " 0.6800234954555436,\n",
       " -0.9993732837011468,\n",
       " 0.6264444480629172,\n",
       " 0.18043044908951783,\n",
       " -0.8623188721790453,\n",
       " 0.9468680108218737,\n",
       " -0.3755095979802688,\n",
       " -0.45596910423125747,\n",
       " 0.9715921905694338,\n",
       " -0.814180970674508,\n",
       " 0.09277620486097948,\n",
       " 0.6928958217226394,\n",
       " -0.9985900724540061,\n",
       " 0.612548239724848,\n",
       " 0.19781357371129926,\n",
       " -0.8711474008806093,\n",
       " 0.9410263091349853,\n",
       " -0.3590442871933816,\n",
       " -0.4716522932673534,\n",
       " 0.9756293127192314,\n",
       " -0.80377545991819,\n",
       " 0.07513609125565701,\n",
       " 0.7055510064254044,\n",
       " -0.9974939203524736,\n",
       " 0.5984600693647424,\n",
       " 0.21513470698099257,\n",
       " -0.8797029270564569,\n",
       " 0.9348897060813516,\n",
       " -0.34246645813789756,\n",
       " -0.4871876746337016,\n",
       " 0.9793606895195444,\n",
       " -0.7931180598370172,\n",
       " 0.05747243129910917,\n",
       " 0.717985083647861,\n",
       " -0.9960851709116538,\n",
       " 0.5841843519714969,\n",
       " 0.23238842075505023,\n",
       " -0.8879827695526722,\n",
       " 0.9284601247662124,\n",
       " -0.32578130601867256,\n",
       " -0.50257037981052,\n",
       " 0.9827851516214251,\n",
       " -0.7822121102758093,\n",
       " 0.03979076047679908,\n",
       " 0.7301941567653093,\n",
       " -0.9943642656092571,\n",
       " 0.5697255613079824,\n",
       " 0.24956930801805616,\n",
       " -0.8959843336098594,\n",
       " 0.9217395801091377,\n",
       " -0.30899405967374827,\n",
       " -0.5177955881241161,\n",
       " 0.9859016258577007,\n",
       " -0.771061028970511,\n",
       " 0.02209661991850137,\n",
       " 0.7421743996654303,\n",
       " -0.9923317437472365,\n",
       " 0.5550882285090811,\n",
       " 0.26667198457714386,\n",
       " -0.903705111676263,\n",
       " 0.914730178212562,\n",
       " -0.29210997993572185,\n",
       " -0.5328585282575827,\n",
       " 0.9887091355792502,\n",
       " -0.7596683104770875,\n",
       " 0.00439555466176117,\n",
       " 0.7539220579473517,\n",
       " -0.9899882422827766,\n",
       " 0.5402769406616734,\n",
       " 0.2836910907493373,\n",
       " -0.911142684193587,\n",
       " 0.9074341157017874,\n",
       " -0.27513435798312347,\n",
       " -0.547754479746044,\n",
       " 0.9912068009610983,\n",
       " -0.7480375250764529,\n",
       " -0.01330688808575442,\n",
       " 0.7654334500981809,\n",
       " -0.9873344956287071,\n",
       " 0.5252963393671708]"
      ]
     },
     "execution_count": 25,
     "metadata": {},
     "output_type": "execute_result"
    }
   ],
   "source": [
    "measurements"
   ]
  },
  {
   "cell_type": "code",
   "execution_count": null,
   "metadata": {},
   "outputs": [],
   "source": []
  }
 ],
 "metadata": {
  "kernelspec": {
   "display_name": "Python 3",
   "language": "python",
   "name": "python3"
  },
  "language_info": {
   "codemirror_mode": {
    "name": "ipython",
    "version": 3
   },
   "file_extension": ".py",
   "mimetype": "text/x-python",
   "name": "python",
   "nbconvert_exporter": "python",
   "pygments_lexer": "ipython3",
   "version": "3.12.0"
  }
 },
 "nbformat": 4,
 "nbformat_minor": 2
}
